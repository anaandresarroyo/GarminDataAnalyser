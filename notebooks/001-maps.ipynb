{
 "cells": [
  {
   "cell_type": "markdown",
   "metadata": {},
   "source": [
    "# 001 - maps\n",
    "\n",
    "This notebook loads all the .csv files in a directory, and plots the GPS coordinates on a map."
   ]
  },
  {
   "cell_type": "code",
   "execution_count": null,
   "metadata": {},
   "outputs": [],
   "source": [
    "from pyprojroot import here\n",
    "import numpy as np\n",
    "import pandas as pd\n",
    "import matplotlib.pyplot as plt\n",
    "from tqdm.notebook import tqdm\n",
    "import folium"
   ]
  },
  {
   "cell_type": "markdown",
   "metadata": {},
   "source": [
    "# Define file locations"
   ]
  },
  {
   "cell_type": "code",
   "execution_count": null,
   "metadata": {},
   "outputs": [],
   "source": [
    "project_root = here()\n",
    "csv_dir = project_root / 'data' / 'greece' / 'csv'\n",
    "save_dir = project_root / 'figures'"
   ]
  },
  {
   "cell_type": "code",
   "execution_count": null,
   "metadata": {},
   "outputs": [],
   "source": [
    "map_name = 'greece'"
   ]
  },
  {
   "cell_type": "markdown",
   "metadata": {},
   "source": [
    "# Load csv files"
   ]
  },
  {
   "cell_type": "code",
   "execution_count": null,
   "metadata": {},
   "outputs": [],
   "source": [
    "# All items in csv_dir should be .csv files.\n",
    "csv_file_paths = [csv_file_path for csv_file_path in csv_dir.iterdir()]"
   ]
  },
  {
   "cell_type": "code",
   "execution_count": null,
   "metadata": {
    "scrolled": false
   },
   "outputs": [],
   "source": [
    "list_of_records = []\n",
    "for csv_file_path in tqdm(csv_file_paths):\n",
    "    # Row 0 contains the variable names.\n",
    "    # Row 1 contains the variable units.\n",
    "    # Column 0 contains the timestamp, which should be used as the index.\n",
    "    records = pd.read_csv(csv_file_path, header=[0, 1], index_col=0)\n",
    "    records.index = pd.to_datetime(records.index)\n",
    "    \n",
    "    # Drop all rows without GSP coordinates\n",
    "    records = records.dropna(subset=[('position_long', 'semicircles'), ('position_lat', 'semicircles')])\n",
    "    \n",
    "    # Convert the GSP coordinates from semicircles to degrees\n",
    "    records.loc[:, ('position_long', 'deg')] = records['position_long']['semicircles']*180/2**31\n",
    "    records.loc[:, ('position_lat', 'deg')] = records['position_lat']['semicircles']*180/2**31\n",
    "    \n",
    "    list_of_records.append(records)\n",
    "\n",
    "print('Timestamp (first) : ', list_of_records[ 0].index[ 0])\n",
    "print('Timestamp (last)  : ', list_of_records[-1].index[-1])"
   ]
  },
  {
   "cell_type": "markdown",
   "metadata": {},
   "source": [
    "# Correct the timestamps for a different timezone\n",
    "\n",
    "This should only be done once because modifying the `records` in the `for` loop modifies the `list_of_records` element permanently."
   ]
  },
  {
   "cell_type": "code",
   "execution_count": null,
   "metadata": {},
   "outputs": [],
   "source": [
    "timezone = pd.Timedelta(hours=2)"
   ]
  },
  {
   "cell_type": "code",
   "execution_count": null,
   "metadata": {},
   "outputs": [],
   "source": [
    "print('Timestamp (original)  : ', list_of_records[ 0].index[ 0])\n",
    "for records in list_of_records:\n",
    "    records.index = records.index + timezone\n",
    "print('Timestamp (corrected) : ', list_of_records[ 0].index[ 0])"
   ]
  },
  {
   "cell_type": "markdown",
   "metadata": {},
   "source": [
    "# Plot the GPS coordinates of all records"
   ]
  },
  {
   "cell_type": "code",
   "execution_count": null,
   "metadata": {
    "scrolled": false
   },
   "outputs": [],
   "source": [
    "fig, ax = plt.subplots(1, 1, figsize=[16, 20])\n",
    "for records in list_of_records:\n",
    "    ax.plot(\n",
    "        records['position_long']['deg'],\n",
    "        records['position_lat']['deg'],\n",
    "        color='k',\n",
    "    )\n",
    "    ax.set_xticks([])\n",
    "    ax.set_yticks([])\n",
    "    ax.axis('equal')\n",
    "    ax.axis('off')\n",
    "\n",
    "# Save figure as vector svg file\n",
    "fig.savefig(save_dir / (map_name + '.svg'), format='svg', transparent=True, bbox_inches=0)"
   ]
  },
  {
   "cell_type": "code",
   "execution_count": null,
   "metadata": {
    "scrolled": false
   },
   "outputs": [],
   "source": [
    "# Calculate the map centre from the average coordinates of all records\n",
    "records_centres = [\n",
    "    [records['position_lat']['deg'].mean(), records['position_long']['deg'].mean()] \n",
    "    for records in list_of_records]\n",
    "map_centre = (np.array(records_centres).min(axis=0)+np.array(records_centres).max(axis=0))/2\n",
    "\n",
    "# Build map \n",
    "folium_map = folium.Map(\n",
    "    location=map_centre, \n",
    "    zoom_start=9, \n",
    "    tiles='OpenStreetMap',\n",
    "    width=900, \n",
    "    height=600,\n",
    ")\n",
    "\n",
    "# Add GPS coordinates to map\n",
    "for records in list_of_records:\n",
    "    folium.ColorLine(\n",
    "        records.loc[:, [('position_lat', 'deg'), ('position_long', 'deg')]].values,\n",
    "        colors=range(len(records)),\n",
    "        colormap=['black', 'black'],\n",
    "        fill_color='#0080bb',\n",
    "    ).add_to(folium_map)\n",
    "\n",
    "# Save map to html file\n",
    "folium_map.save(str(save_dir / f'{map_name}.html'))\n",
    "\n",
    "# Display map in Jupyter\n",
    "folium_map"
   ]
  },
  {
   "cell_type": "markdown",
   "metadata": {},
   "source": [
    "# Plot the GPS coordinates of a given date"
   ]
  },
  {
   "cell_type": "code",
   "execution_count": null,
   "metadata": {},
   "outputs": [],
   "source": [
    "date = '2022-04-20'"
   ]
  },
  {
   "cell_type": "code",
   "execution_count": null,
   "metadata": {
    "scrolled": false
   },
   "outputs": [],
   "source": [
    "fig, ax = plt.subplots(1, 1, figsize=[16, 20])\n",
    "for records in list_of_records:\n",
    "    ax.plot(\n",
    "        records['position_long']['deg'],\n",
    "        records['position_lat']['deg'],\n",
    "        color='k',\n",
    "    )\n",
    "    ax.set_xticks([])\n",
    "    ax.set_yticks([])\n",
    "    ax.axis('equal')\n",
    "\n",
    "for records in list_of_records:\n",
    "    records = records.loc[date:date].copy()\n",
    "    ax.plot(\n",
    "        records['position_long']['deg'],\n",
    "        records['position_lat']['deg'],\n",
    "        color='deepskyblue',\n",
    "        linewidth=5,\n",
    "    )\n",
    "    ax.set_xticks([])\n",
    "    ax.set_yticks([])\n",
    "    ax.axis('equal')\n",
    "    ax.axis('off')\n",
    "\n",
    "# Save figure as vector svg file\n",
    "fig.savefig(save_dir / ('%s-%s.svg' % (map_name, date)), format='svg', transparent=True, bbox_inches=0)"
   ]
  }
 ],
 "metadata": {
  "kernelspec": {
   "display_name": "Python 3",
   "language": "python",
   "name": "python3"
  },
  "language_info": {
   "codemirror_mode": {
    "name": "ipython",
    "version": 3
   },
   "file_extension": ".py",
   "mimetype": "text/x-python",
   "name": "python",
   "nbconvert_exporter": "python",
   "pygments_lexer": "ipython3",
   "version": "3.8.8"
  }
 },
 "nbformat": 4,
 "nbformat_minor": 4
}
