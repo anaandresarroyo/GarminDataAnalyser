{
 "cells": [
  {
   "cell_type": "markdown",
   "metadata": {},
   "source": [
    "# 001-maps\n",
    "\n",
    "This notebook loads all the .fit files in a directory, reads their records messages into pandas DataFrames, and plots the GPS coordinates on a map."
   ]
  },
  {
   "cell_type": "code",
   "execution_count": null,
   "metadata": {},
   "outputs": [],
   "source": [
    "import os\n",
    "import numpy as np\n",
    "import pandas as pd\n",
    "import matplotlib.pyplot as plt\n",
    "from fitparse import FitFile\n",
    "from tqdm.notebook import tqdm\n",
    "from fitanalyser import fitparser\n",
    "import folium"
   ]
  },
  {
   "cell_type": "markdown",
   "metadata": {},
   "source": [
    "# Load fit files"
   ]
  },
  {
   "cell_type": "code",
   "execution_count": null,
   "metadata": {},
   "outputs": [],
   "source": [
    "file_dir = os.path.join('..', 'data', 'fit')"
   ]
  },
  {
   "cell_type": "code",
   "execution_count": null,
   "metadata": {},
   "outputs": [],
   "source": [
    "file_paths = [os.path.join(file_dir, file_name) for file_name in os.listdir(file_dir)]"
   ]
  },
  {
   "cell_type": "code",
   "execution_count": null,
   "metadata": {
    "scrolled": false
   },
   "outputs": [],
   "source": [
    "list_of_records = []\n",
    "for file_path in tqdm(file_paths):\n",
    "    fitfile = FitFile(file_path)\n",
    "    records = fitparser.get_records(fitfile)\n",
    "    records = records.dropna(subset=[('position_long', 'semicircles'), ('position_lat', 'semicircles')])\n",
    "    records.loc[:, ('position_long', 'deg')] = records['position_long']['semicircles']*180/2**31\n",
    "    records.loc[:, ('position_lat', 'deg')] = records['position_lat']['semicircles']*180/2**31\n",
    "    list_of_records.append(records)\n",
    "\n",
    "print(list_of_records[ 0].index[ 0])\n",
    "print(list_of_records[-1].index[-1])"
   ]
  },
  {
   "cell_type": "markdown",
   "metadata": {},
   "source": [
    "# Correct the timestamps for a different timezone\n",
    "\n",
    "This should only be done once because modifying the `records` in the `for` loop modifies the `list_of_records` element permanently."
   ]
  },
  {
   "cell_type": "code",
   "execution_count": null,
   "metadata": {},
   "outputs": [],
   "source": [
    "timezone = pd.Timedelta(hours=-4)"
   ]
  },
  {
   "cell_type": "code",
   "execution_count": null,
   "metadata": {},
   "outputs": [],
   "source": [
    "print(list_of_records[0].index[0])\n",
    "for records in list_of_records:\n",
    "    records.index = records.index + timezone\n",
    "print(list_of_records[0].index[0])"
   ]
  },
  {
   "cell_type": "markdown",
   "metadata": {},
   "source": [
    "# Plot the GPS coordinates of all records"
   ]
  },
  {
   "cell_type": "code",
   "execution_count": null,
   "metadata": {
    "scrolled": false
   },
   "outputs": [],
   "source": [
    "fig, ax = plt.subplots(1, 1, figsize=[16, 20])\n",
    "for records in list_of_records:\n",
    "    ax.plot(\n",
    "        records['position_long']['deg'],\n",
    "        records['position_lat']['deg'],\n",
    "        color='k',\n",
    "    )\n",
    "    ax.set_xticks([])\n",
    "    ax.set_yticks([])\n",
    "    ax.axis('equal')\n",
    "\n",
    "# Save figure as vector eps file\n",
    "fig.savefig(os.path.join('..','figures','map.eps'), format='eps')"
   ]
  },
  {
   "cell_type": "code",
   "execution_count": null,
   "metadata": {
    "scrolled": false
   },
   "outputs": [],
   "source": [
    "# Calculate the map centre from the average coordinates of all records\n",
    "records_centres = [\n",
    "    [records['position_lat']['deg'].mean(), records['position_long']['deg'].mean()] \n",
    "    for records in list_of_records]\n",
    "map_centre = np.array(records_centres).mean(axis=0)\n",
    "\n",
    "# Build map \n",
    "folium_map = folium.Map(\n",
    "    location=map_centre, \n",
    "    zoom_start=11, \n",
    "    tiles='OpenStreetMap',\n",
    "    width=640, \n",
    "    height=800,\n",
    ")\n",
    "\n",
    "# Add GPS coordinates to map\n",
    "for records in list_of_records:\n",
    "    folium.ColorLine(\n",
    "        records.loc[:, [('position_lat', 'deg'), ('position_long', 'deg')]].values,\n",
    "        colors=range(len(records)),\n",
    "        colormap=['black', 'black'],\n",
    "        fill_color='#0080bb',\n",
    "    ).add_to(folium_map)\n",
    "\n",
    "# Save map to html file\n",
    "folium_map.save(os.path.join('..','figures','map.html'))\n",
    "\n",
    "# Display map in Jupyter\n",
    "folium_map"
   ]
  },
  {
   "cell_type": "markdown",
   "metadata": {},
   "source": [
    "# Plot the GPS coordinates of a given date"
   ]
  },
  {
   "cell_type": "code",
   "execution_count": null,
   "metadata": {},
   "outputs": [],
   "source": [
    "date = '2019-02-21'"
   ]
  },
  {
   "cell_type": "code",
   "execution_count": null,
   "metadata": {
    "scrolled": false
   },
   "outputs": [],
   "source": [
    "fig, ax = plt.subplots(1, 1, figsize=[16, 20])\n",
    "for records in list_of_records:\n",
    "    ax.plot(\n",
    "        records['position_long']['deg'],\n",
    "        records['position_lat']['deg'],\n",
    "        color='k',\n",
    "    )\n",
    "    ax.set_xticks([])\n",
    "    ax.set_yticks([])\n",
    "    ax.axis('equal')\n",
    "\n",
    "for records in list_of_records:\n",
    "    records = records.loc[date:date].copy()\n",
    "    ax.plot(\n",
    "        records['position_long']['deg'],\n",
    "        records['position_lat']['deg'],\n",
    "        color='r',\n",
    "        linewidth=3,\n",
    "    )\n",
    "    ax.set_xticks([])\n",
    "    ax.set_yticks([])\n",
    "    ax.axis('equal')\n",
    "\n",
    "# Save figure as vector eps file\n",
    "fig.savefig(os.path.join('..','figures','map.eps'), format='eps')"
   ]
  },
  {
   "cell_type": "code",
   "execution_count": null,
   "metadata": {},
   "outputs": [],
   "source": []
  }
 ],
 "metadata": {
  "kernelspec": {
   "display_name": "Python 3",
   "language": "python",
   "name": "python3"
  },
  "language_info": {
   "codemirror_mode": {
    "name": "ipython",
    "version": 3
   },
   "file_extension": ".py",
   "mimetype": "text/x-python",
   "name": "python",
   "nbconvert_exporter": "python",
   "pygments_lexer": "ipython3",
   "version": "3.8.2"
  }
 },
 "nbformat": 4,
 "nbformat_minor": 4
}
