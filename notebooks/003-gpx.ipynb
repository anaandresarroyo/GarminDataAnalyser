{
 "cells": [
  {
   "cell_type": "markdown",
   "metadata": {},
   "source": [
    "# 003 - gpx\n",
    "- Merge all gpx files from `gpx_dir` into a single `new_gpx` and save it in the `output_gpx_path` file.\n",
    "- Correct the `timezone` in the gpx track points."
   ]
  },
  {
   "cell_type": "code",
   "execution_count": null,
   "metadata": {},
   "outputs": [],
   "source": [
    "from pathlib import Path\n",
    "from datetime import timedelta\n",
    "from tqdm.notebook import tqdm\n",
    "import gpxpy"
   ]
  },
  {
   "cell_type": "code",
   "execution_count": null,
   "metadata": {},
   "outputs": [],
   "source": [
    "gpx_dir = Path('../data/greece/gpx')\n",
    "output_gpx_path = Path('../data/greece/greece.gpx')"
   ]
  },
  {
   "cell_type": "code",
   "execution_count": null,
   "metadata": {},
   "outputs": [],
   "source": [
    "timezone = timedelta(hours=2)"
   ]
  },
  {
   "cell_type": "code",
   "execution_count": null,
   "metadata": {},
   "outputs": [],
   "source": [
    "new_gpx = gpxpy.gpx.GPX()"
   ]
  },
  {
   "cell_type": "code",
   "execution_count": null,
   "metadata": {},
   "outputs": [],
   "source": [
    "n_points = 0 \n",
    "gpx_file_paths = list(gpx_dir.iterdir())\n",
    "for i, gpx_file_path in enumerate(tqdm(gpx_file_paths)):\n",
    "    with open(gpx_file_path, 'r') as f:\n",
    "        gpx = gpxpy.parse(f)\n",
    "    for track in gpx.tracks:\n",
    "        new_track = gpxpy.gpx.GPXTrack(name=track.name)\n",
    "        new_gpx.tracks.append(new_track)\n",
    "\n",
    "        for segment in track.segments:\n",
    "            new_segment = gpxpy.gpx.GPXTrackSegment()\n",
    "            new_track.segments.append(new_segment)\n",
    "            for point in segment.points:\n",
    "                new_point = gpxpy.gpx.GPXTrackPoint(\n",
    "                    point.latitude,\n",
    "                    point.longitude,\n",
    "                    elevation=point.elevation,\n",
    "                    time=point.time + timezone,\n",
    "                )\n",
    "                new_segment.points.append(new_point)\n",
    "                n_points += 1\n",
    "#     print(i+1, n_points, new_track)"
   ]
  },
  {
   "cell_type": "code",
   "execution_count": null,
   "metadata": {},
   "outputs": [],
   "source": [
    "with open(output_gpx_path, 'w') as f:\n",
    "    f.write(new_gpx.to_xml())"
   ]
  }
 ],
 "metadata": {
  "kernelspec": {
   "display_name": "Python 3",
   "language": "python",
   "name": "python3"
  },
  "language_info": {
   "codemirror_mode": {
    "name": "ipython",
    "version": 3
   },
   "file_extension": ".py",
   "mimetype": "text/x-python",
   "name": "python",
   "nbconvert_exporter": "python",
   "pygments_lexer": "ipython3",
   "version": "3.8.8"
  }
 },
 "nbformat": 4,
 "nbformat_minor": 4
}
